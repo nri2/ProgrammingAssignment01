{
 "cells": [
  {
   "cell_type": "markdown",
   "id": "9662031c-8c25-4e4b-9d63-acf29b0c8449",
   "metadata": {},
   "source": [
    "# 1. Programming Assignment: Python Basics "
   ]
  },
  {
   "cell_type": "markdown",
   "id": "2a3984d6-14e0-446f-9229-02e10050d983",
   "metadata": {},
   "source": [
    "## List basics"
   ]
  },
  {
   "cell_type": "markdown",
   "id": "a72259ab-5b16-4dab-be0e-fde298033b6b",
   "metadata": {},
   "source": [
    "Given the user inputs, complete a program that does the following tasks:\n",
    "\n",
    "- Define a list, myList, containing the user inputs myFlower1, myFlower2, and myFlower3 in the same order.\n",
    "- Define a list, yourList, containing the user inputs yourFlower1 and yourFlower2 in the same order.\n",
    "- Define a list, ourList, by concatenating myList and yourList.\n",
    "- Append the user input theirFlower to the end of ourList.\n",
    "- Replace myFlower2 in ourList with theirFlower.\n",
    "- Remove the third element of ourList.\n",
    "\n",
    "Observe the output of each print statement carefully to understand what was done by each task of the program.\n",
    "\n",
    "Ex: If the input is:\n",
    "\n",
    "    rose\n",
    "    peony\n",
    "    lily\n",
    "    rose\n",
    "    daisy\n",
    "    aster\n",
    "the output is:\n",
    "    \n",
    "    ['rose', 'peony', 'lily']\n",
    "    ['rose', 'daisy']\n",
    "    ['rose', 'peony', 'lily', 'rose', 'daisy']\n",
    "    ['rose', 'peony', 'lily', 'rose', 'daisy', 'aster']\n",
    "    ['rose', 'aster', 'lily', 'rose', 'daisy', 'aster']\n",
    "    ['rose', 'aster', 'rose', 'daisy', 'aster']"
   ]
  },
  {
   "cell_type": "code",
   "execution_count": null,
   "id": "6b3e3e84-cb5e-4ead-bfb4-e1d295f0cdcf",
   "metadata": {},
   "outputs": [],
   "source": [
    "myFlower1 = input()\n",
    "myFlower2 = input()\n",
    "myFlower3 = input()\n",
    "\n",
    "yourFlower1 = input()\n",
    "yourFlower2 = input()\n",
    "\n",
    "theirFlower = input()\n",
    "\n",
    "# Define myList containing myFlower1, myFlower2, and myFlower3 in that order\n",
    "# Your code here\n",
    "print(myList)\n",
    "\n",
    "# Define yourList containing yourFlower1 and yourFlower2 in that order\n",
    "# Your code here\n",
    "print(yourList)\n",
    "\n",
    "# Define ourList by concatenating myList and yourList\n",
    "# Your code here\n",
    "print(ourList)\n",
    "\n",
    "# Append theirFlower to the end of ourList\n",
    "# Your code here\n",
    "print(ourList)\n",
    "\n",
    "# Replace myFlower2 in ourList with theirFlower\n",
    "# Your code here\n",
    "print(ourList)\n",
    "\n",
    "# Remove the third element of ourList\n",
    "# Your code here\n",
    "print(ourList)"
   ]
  },
  {
   "cell_type": "code",
   "execution_count": null,
   "id": "1668da6e-e02b-4786-a998-bb57e820723b",
   "metadata": {},
   "outputs": [],
   "source": []
  },
  {
   "cell_type": "code",
   "execution_count": null,
   "id": "5b9e31d0-1171-4316-a9fc-8082007a7108",
   "metadata": {},
   "outputs": [],
   "source": []
  },
  {
   "cell_type": "markdown",
   "id": "5c9fe6ee-1fd0-4d5e-911b-d7090d16e3cb",
   "metadata": {},
   "source": [
    "## Set basics "
   ]
  },
  {
   "cell_type": "markdown",
   "id": "672fa2b5-dd57-4557-8135-89bc8fbc9ed5",
   "metadata": {},
   "source": [
    "\n",
    "Given the user inputs, complete a program that does the following tasks:\n",
    "\n",
    "- Define a set, fruits, containing the user inputs myFruit1, myFruit2, and myFruit3.\n",
    "- Add the user input theirFruit to fruits.\n",
    "- Find the intersection of fruits and yourFruit1 and yourFruit2\n",
    "- Remove myFruit1 from fruits.\n",
    "Note: For testing purposes, sets are printed using sorted() for comparison.\n",
    "\n",
    "Ex: If the input is:\n",
    "\n",
    "    apple\n",
    "    peach\n",
    "    lemon\n",
    "    apple\n",
    "    pear\n",
    "    plum\n",
    "\n",
    "the output is:\n",
    "\n",
    "    ['apple', 'lemon', 'peach']\n",
    "    ['apple', 'lemon', 'peach', 'plum']\n",
    "    ['apple']\n",
    "    ['lemon', 'peach', 'plum']"
   ]
  },
  {
   "cell_type": "code",
   "execution_count": null,
   "id": "b20f3db1-4112-4a3c-b889-8a1d5bf8f807",
   "metadata": {},
   "outputs": [],
   "source": [
    "myFruit1 = input()\n",
    "myFruit2 = input()\n",
    "myFruit3 = input()\n",
    "\n",
    "yourFruit1 = input()\n",
    "yourFruit2 = input()\n",
    "\n",
    "theirFruit = input()\n",
    "\n",
    "# Define a set, fruits, containing myFruit1, myFruit2, and myFruit3\n",
    "# Your code here\n",
    "print(sorted(fruits))\n",
    "\n",
    "# Add theirFruit to fruits\n",
    "# Your code here\n",
    "print(sorted(fruits))\n",
    "\n",
    "# Find the intersection of fruits, and yourFruit1 and yourFruit2\n",
    "fruitsInter = # Your code here\n",
    "print(sorted(fruitsInter))\n",
    "\n",
    "# Remove myFruit1 from fruits\n",
    "# Your code here\n",
    "print(sorted(fruits))"
   ]
  },
  {
   "cell_type": "code",
   "execution_count": null,
   "id": "bd19e640-3eb4-4bd6-a8c9-9af05f910e1f",
   "metadata": {},
   "outputs": [],
   "source": []
  },
  {
   "cell_type": "code",
   "execution_count": null,
   "id": "32eb04d7-c573-46f6-b0ae-11750a031f3f",
   "metadata": {},
   "outputs": [],
   "source": []
  },
  {
   "cell_type": "code",
   "execution_count": null,
   "id": "f97a7bc0-4a0a-4de3-8a75-27a1798db981",
   "metadata": {},
   "outputs": [],
   "source": []
  },
  {
   "cell_type": "code",
   "execution_count": null,
   "id": "142d8d53-dc9d-4a2e-817b-f0f1960b1c97",
   "metadata": {},
   "outputs": [],
   "source": []
  },
  {
   "cell_type": "code",
   "execution_count": null,
   "id": "9c7043f2-39cf-4e5d-9d1c-ac1e7e8786e5",
   "metadata": {},
   "outputs": [],
   "source": []
  },
  {
   "cell_type": "code",
   "execution_count": null,
   "id": "99867e6f-b832-41dc-82ed-c37a873de736",
   "metadata": {},
   "outputs": [],
   "source": []
  },
  {
   "cell_type": "code",
   "execution_count": null,
   "id": "ad3d814e-d6a9-4c29-99bd-5b0dd18ec0c2",
   "metadata": {},
   "outputs": [],
   "source": []
  },
  {
   "cell_type": "code",
   "execution_count": null,
   "id": "88072331-d4b0-47e6-a4ad-48d20e587d9b",
   "metadata": {},
   "outputs": [],
   "source": []
  }
 ],
 "metadata": {
  "kernelspec": {
   "display_name": "Python 3 (ipykernel)",
   "language": "python",
   "name": "python3"
  },
  "language_info": {
   "codemirror_mode": {
    "name": "ipython",
    "version": 3
   },
   "file_extension": ".py",
   "mimetype": "text/x-python",
   "name": "python",
   "nbconvert_exporter": "python",
   "pygments_lexer": "ipython3",
   "version": "3.12.4"
  }
 },
 "nbformat": 4,
 "nbformat_minor": 5
}
